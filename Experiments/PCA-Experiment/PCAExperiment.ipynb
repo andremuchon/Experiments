{
 "cells": [
  {
   "cell_type": "markdown",
   "metadata": {},
   "source": [
    "# A little experiment with PCA"
   ]
  },
  {
   "cell_type": "markdown",
   "metadata": {},
   "source": [
    "Principal Component Analysis (PCA) is a well known technique for dimensionality reduction. In simple terms, it consists in the construction of a change of basis transformation such that the vectors in the new basis correspond to directions of maximum variance in the data set, and are in decreasing order in terms of variance."
   ]
  },
  {
   "cell_type": "markdown",
   "metadata": {},
   "source": [
    "#### Goal"
   ]
  },
  {
   "cell_type": "markdown",
   "metadata": {},
   "source": [
    "Suppose we are in the setting of a regression problem, i.e., our goal is to predict a continuously ranging variable, such as the canonical housing prices example. Furthermore, suppose we have a certain (large) number of numerical features that are relevant to use in our model (if there are just a few numerical features, maybe PCA is not necessary).\n",
    "\n",
    "We want to understand what is the outcome if we fit our PCA instance with the target variable (which is, in this case, numerical) in the data set. Can this introduce data leakage in our model?\n",
    "\n",
    "To test this, we'll construct a supervised learning problem and proceed with 2 versions of the model:\n",
    "\n",
    "1. We fit PCA including the target variable in the data set\n",
    "2. We fit PCA without the target variable in the data set\n",
    "\n",
    "In the end, we compute some metrics to investigate the difference."
   ]
  },
  {
   "cell_type": "markdown",
   "metadata": {},
   "source": [
    "## Imports"
   ]
  },
  {
   "cell_type": "code",
   "execution_count": 1,
   "metadata": {},
   "outputs": [],
   "source": [
    "import pandas as pd\n",
    "import numpy as np\n",
    "import matplotlib.pyplot as plt\n",
    "import seaborn as sns\n",
    "sns.set()"
   ]
  },
  {
   "cell_type": "markdown",
   "metadata": {},
   "source": [
    "## Generating Data"
   ]
  },
  {
   "cell_type": "markdown",
   "metadata": {},
   "source": [
    "In order to test our assumptions, we'll create a data set with ten thousand instance as follows:\n",
    "\n",
    "1. Each column of the data is a normally distributed sample. Specifically, column j follows a normal distribution of mean 0 and standard deviation j.\n",
    "2. The target variable will be the sum of all variables with added noise. This noise is also normally distributed, with mean 0 and standard deviation 0.05.\n",
    "\n",
    "Since our data is artificially generated, there is no need to use 'train_test_split', we just create 2 sets (train and test)."
   ]
  },
  {
   "cell_type": "markdown",
   "metadata": {},
   "source": [
    "#### Creating Features"
   ]
  },
  {
   "cell_type": "code",
   "execution_count": 2,
   "metadata": {},
   "outputs": [],
   "source": [
    "from scipy.stats import norm"
   ]
  },
  {
   "cell_type": "code",
   "execution_count": 3,
   "metadata": {},
   "outputs": [],
   "source": [
    "#10 columns, 100000 samples\n",
    "l = [norm.rvs(size = 10**5, loc = 0, scale = i+1) for i in range(10)]\n",
    "l_test = [norm.rvs(size = 10**5, loc = 0, scale = i+1) for i in range(10)]\n",
    "df = pd.DataFrame(l).T\n",
    "df_test = pd.DataFrame(l_test).T"
   ]
  },
  {
   "cell_type": "code",
   "execution_count": 4,
   "metadata": {},
   "outputs": [],
   "source": [
    "c = {}\n",
    "for i in range(10):\n",
    "    c[i] = 'Variable ' + str(i+1)\n",
    "\n",
    "df.rename(columns = c, inplace = True)\n",
    "df_test.rename(columns = c, inplace = True)"
   ]
  },
  {
   "cell_type": "markdown",
   "metadata": {},
   "source": [
    "#### Creating Target Variable"
   ]
  },
  {
   "cell_type": "code",
   "execution_count": 5,
   "metadata": {},
   "outputs": [],
   "source": [
    "noise = norm.rvs(size = 10**5, loc = 0, scale = 0.05)\n",
    "noise_test = norm.rvs(size = 10**5, loc = 0, scale = 0.05)"
   ]
  },
  {
   "cell_type": "code",
   "execution_count": 6,
   "metadata": {},
   "outputs": [],
   "source": [
    "df['y'] = df['Variable 1']\n",
    "df_test['y'] = df_test['Variable 1']\n",
    "for i in range(2,11):\n",
    "    df['y'] = df['y'] + df['Variable ' + str(i)]\n",
    "    df_test['y'] = df_test['y'] + df_test['Variable ' + str(i)]\n",
    "    \n",
    "df['y'] = df['y'] + noise\n",
    "df_test['y'] = df_test['y'] + noise_test"
   ]
  },
  {
   "cell_type": "code",
   "execution_count": 7,
   "metadata": {},
   "outputs": [
    {
     "data": {
      "text/html": [
       "<div>\n",
       "<style scoped>\n",
       "    .dataframe tbody tr th:only-of-type {\n",
       "        vertical-align: middle;\n",
       "    }\n",
       "\n",
       "    .dataframe tbody tr th {\n",
       "        vertical-align: top;\n",
       "    }\n",
       "\n",
       "    .dataframe thead th {\n",
       "        text-align: right;\n",
       "    }\n",
       "</style>\n",
       "<table border=\"1\" class=\"dataframe\">\n",
       "  <thead>\n",
       "    <tr style=\"text-align: right;\">\n",
       "      <th></th>\n",
       "      <th>Variable 1</th>\n",
       "      <th>Variable 2</th>\n",
       "      <th>Variable 3</th>\n",
       "      <th>Variable 4</th>\n",
       "      <th>Variable 5</th>\n",
       "      <th>Variable 6</th>\n",
       "      <th>Variable 7</th>\n",
       "      <th>Variable 8</th>\n",
       "      <th>Variable 9</th>\n",
       "      <th>Variable 10</th>\n",
       "      <th>y</th>\n",
       "    </tr>\n",
       "  </thead>\n",
       "  <tbody>\n",
       "    <tr>\n",
       "      <th>0</th>\n",
       "      <td>0.065023</td>\n",
       "      <td>-1.746832</td>\n",
       "      <td>-2.115627</td>\n",
       "      <td>0.780347</td>\n",
       "      <td>1.042145</td>\n",
       "      <td>-1.622671</td>\n",
       "      <td>-3.200456</td>\n",
       "      <td>-4.230032</td>\n",
       "      <td>15.536607</td>\n",
       "      <td>-30.132695</td>\n",
       "      <td>-25.660216</td>\n",
       "    </tr>\n",
       "    <tr>\n",
       "      <th>1</th>\n",
       "      <td>0.844927</td>\n",
       "      <td>2.045402</td>\n",
       "      <td>1.663006</td>\n",
       "      <td>-1.275406</td>\n",
       "      <td>-4.805045</td>\n",
       "      <td>6.609990</td>\n",
       "      <td>5.794474</td>\n",
       "      <td>6.095416</td>\n",
       "      <td>15.023046</td>\n",
       "      <td>-5.344521</td>\n",
       "      <td>26.707577</td>\n",
       "    </tr>\n",
       "    <tr>\n",
       "      <th>2</th>\n",
       "      <td>-1.685260</td>\n",
       "      <td>1.682198</td>\n",
       "      <td>0.402331</td>\n",
       "      <td>4.161648</td>\n",
       "      <td>-6.051976</td>\n",
       "      <td>0.772228</td>\n",
       "      <td>2.364731</td>\n",
       "      <td>18.072687</td>\n",
       "      <td>3.557881</td>\n",
       "      <td>12.739563</td>\n",
       "      <td>35.868827</td>\n",
       "    </tr>\n",
       "    <tr>\n",
       "      <th>3</th>\n",
       "      <td>-0.637307</td>\n",
       "      <td>-4.276427</td>\n",
       "      <td>-0.383800</td>\n",
       "      <td>9.227905</td>\n",
       "      <td>4.867844</td>\n",
       "      <td>-15.331010</td>\n",
       "      <td>4.685788</td>\n",
       "      <td>15.570413</td>\n",
       "      <td>5.401244</td>\n",
       "      <td>14.592814</td>\n",
       "      <td>33.726075</td>\n",
       "    </tr>\n",
       "    <tr>\n",
       "      <th>4</th>\n",
       "      <td>0.445568</td>\n",
       "      <td>-2.028649</td>\n",
       "      <td>-0.596922</td>\n",
       "      <td>-0.293666</td>\n",
       "      <td>-8.487407</td>\n",
       "      <td>12.172732</td>\n",
       "      <td>7.366643</td>\n",
       "      <td>5.217159</td>\n",
       "      <td>-2.798615</td>\n",
       "      <td>4.727270</td>\n",
       "      <td>15.634467</td>\n",
       "    </tr>\n",
       "  </tbody>\n",
       "</table>\n",
       "</div>"
      ],
      "text/plain": [
       "   Variable 1  Variable 2  Variable 3  Variable 4  Variable 5  Variable 6  \\\n",
       "0    0.065023   -1.746832   -2.115627    0.780347    1.042145   -1.622671   \n",
       "1    0.844927    2.045402    1.663006   -1.275406   -4.805045    6.609990   \n",
       "2   -1.685260    1.682198    0.402331    4.161648   -6.051976    0.772228   \n",
       "3   -0.637307   -4.276427   -0.383800    9.227905    4.867844  -15.331010   \n",
       "4    0.445568   -2.028649   -0.596922   -0.293666   -8.487407   12.172732   \n",
       "\n",
       "   Variable 7  Variable 8  Variable 9  Variable 10          y  \n",
       "0   -3.200456   -4.230032   15.536607   -30.132695 -25.660216  \n",
       "1    5.794474    6.095416   15.023046    -5.344521  26.707577  \n",
       "2    2.364731   18.072687    3.557881    12.739563  35.868827  \n",
       "3    4.685788   15.570413    5.401244    14.592814  33.726075  \n",
       "4    7.366643    5.217159   -2.798615     4.727270  15.634467  "
      ]
     },
     "execution_count": 7,
     "metadata": {},
     "output_type": "execute_result"
    }
   ],
   "source": [
    "df.head()"
   ]
  },
  {
   "cell_type": "code",
   "execution_count": 8,
   "metadata": {},
   "outputs": [
    {
     "data": {
      "text/html": [
       "<div>\n",
       "<style scoped>\n",
       "    .dataframe tbody tr th:only-of-type {\n",
       "        vertical-align: middle;\n",
       "    }\n",
       "\n",
       "    .dataframe tbody tr th {\n",
       "        vertical-align: top;\n",
       "    }\n",
       "\n",
       "    .dataframe thead th {\n",
       "        text-align: right;\n",
       "    }\n",
       "</style>\n",
       "<table border=\"1\" class=\"dataframe\">\n",
       "  <thead>\n",
       "    <tr style=\"text-align: right;\">\n",
       "      <th></th>\n",
       "      <th>Variable 1</th>\n",
       "      <th>Variable 2</th>\n",
       "      <th>Variable 3</th>\n",
       "      <th>Variable 4</th>\n",
       "      <th>Variable 5</th>\n",
       "      <th>Variable 6</th>\n",
       "      <th>Variable 7</th>\n",
       "      <th>Variable 8</th>\n",
       "      <th>Variable 9</th>\n",
       "      <th>Variable 10</th>\n",
       "      <th>y</th>\n",
       "    </tr>\n",
       "  </thead>\n",
       "  <tbody>\n",
       "    <tr>\n",
       "      <th>0</th>\n",
       "      <td>1.777104</td>\n",
       "      <td>-0.410021</td>\n",
       "      <td>-1.929538</td>\n",
       "      <td>1.221378</td>\n",
       "      <td>-6.527544</td>\n",
       "      <td>-1.386904</td>\n",
       "      <td>-9.613295</td>\n",
       "      <td>-7.617512</td>\n",
       "      <td>3.635672</td>\n",
       "      <td>0.108893</td>\n",
       "      <td>-20.753144</td>\n",
       "    </tr>\n",
       "    <tr>\n",
       "      <th>1</th>\n",
       "      <td>-0.318520</td>\n",
       "      <td>1.549594</td>\n",
       "      <td>1.627102</td>\n",
       "      <td>2.632319</td>\n",
       "      <td>-7.782856</td>\n",
       "      <td>0.440740</td>\n",
       "      <td>-11.511630</td>\n",
       "      <td>4.462799</td>\n",
       "      <td>-3.360607</td>\n",
       "      <td>-0.275311</td>\n",
       "      <td>-12.543640</td>\n",
       "    </tr>\n",
       "    <tr>\n",
       "      <th>2</th>\n",
       "      <td>-0.095989</td>\n",
       "      <td>0.769557</td>\n",
       "      <td>-1.947580</td>\n",
       "      <td>-5.786092</td>\n",
       "      <td>-10.212569</td>\n",
       "      <td>0.847119</td>\n",
       "      <td>10.275062</td>\n",
       "      <td>7.851556</td>\n",
       "      <td>-18.980572</td>\n",
       "      <td>-2.000581</td>\n",
       "      <td>-19.302121</td>\n",
       "    </tr>\n",
       "    <tr>\n",
       "      <th>3</th>\n",
       "      <td>-1.904998</td>\n",
       "      <td>-2.012393</td>\n",
       "      <td>0.986708</td>\n",
       "      <td>-0.246899</td>\n",
       "      <td>1.243384</td>\n",
       "      <td>-0.107575</td>\n",
       "      <td>-6.814561</td>\n",
       "      <td>11.273945</td>\n",
       "      <td>-1.786955</td>\n",
       "      <td>-4.703055</td>\n",
       "      <td>-3.999316</td>\n",
       "    </tr>\n",
       "    <tr>\n",
       "      <th>4</th>\n",
       "      <td>0.328119</td>\n",
       "      <td>-3.677947</td>\n",
       "      <td>-0.386508</td>\n",
       "      <td>-5.257471</td>\n",
       "      <td>-5.485818</td>\n",
       "      <td>-1.680917</td>\n",
       "      <td>5.195897</td>\n",
       "      <td>-6.121087</td>\n",
       "      <td>-7.184849</td>\n",
       "      <td>-6.258753</td>\n",
       "      <td>-30.537561</td>\n",
       "    </tr>\n",
       "  </tbody>\n",
       "</table>\n",
       "</div>"
      ],
      "text/plain": [
       "   Variable 1  Variable 2  Variable 3  Variable 4  Variable 5  Variable 6  \\\n",
       "0    1.777104   -0.410021   -1.929538    1.221378   -6.527544   -1.386904   \n",
       "1   -0.318520    1.549594    1.627102    2.632319   -7.782856    0.440740   \n",
       "2   -0.095989    0.769557   -1.947580   -5.786092  -10.212569    0.847119   \n",
       "3   -1.904998   -2.012393    0.986708   -0.246899    1.243384   -0.107575   \n",
       "4    0.328119   -3.677947   -0.386508   -5.257471   -5.485818   -1.680917   \n",
       "\n",
       "   Variable 7  Variable 8  Variable 9  Variable 10          y  \n",
       "0   -9.613295   -7.617512    3.635672     0.108893 -20.753144  \n",
       "1  -11.511630    4.462799   -3.360607    -0.275311 -12.543640  \n",
       "2   10.275062    7.851556  -18.980572    -2.000581 -19.302121  \n",
       "3   -6.814561   11.273945   -1.786955    -4.703055  -3.999316  \n",
       "4    5.195897   -6.121087   -7.184849    -6.258753 -30.537561  "
      ]
     },
     "execution_count": 8,
     "metadata": {},
     "output_type": "execute_result"
    }
   ],
   "source": [
    "df_test.head()"
   ]
  },
  {
   "cell_type": "markdown",
   "metadata": {},
   "source": [
    "## PCA Time"
   ]
  },
  {
   "cell_type": "markdown",
   "metadata": {},
   "source": [
    "Lets start by creating two copies of the training set, one to each case."
   ]
  },
  {
   "cell_type": "code",
   "execution_count": 9,
   "metadata": {},
   "outputs": [],
   "source": [
    "df1 = df.copy()\n",
    "df2 = df.copy()\n",
    "y = df.y"
   ]
  },
  {
   "cell_type": "markdown",
   "metadata": {},
   "source": [
    "From the second copy, we drop the target variable!"
   ]
  },
  {
   "cell_type": "code",
   "execution_count": 10,
   "metadata": {},
   "outputs": [],
   "source": [
    "df2.drop('y', axis = 1, inplace = True)"
   ]
  },
  {
   "cell_type": "code",
   "execution_count": 11,
   "metadata": {},
   "outputs": [
    {
     "data": {
      "text/html": [
       "<div>\n",
       "<style scoped>\n",
       "    .dataframe tbody tr th:only-of-type {\n",
       "        vertical-align: middle;\n",
       "    }\n",
       "\n",
       "    .dataframe tbody tr th {\n",
       "        vertical-align: top;\n",
       "    }\n",
       "\n",
       "    .dataframe thead th {\n",
       "        text-align: right;\n",
       "    }\n",
       "</style>\n",
       "<table border=\"1\" class=\"dataframe\">\n",
       "  <thead>\n",
       "    <tr style=\"text-align: right;\">\n",
       "      <th></th>\n",
       "      <th>Variable 1</th>\n",
       "      <th>Variable 2</th>\n",
       "      <th>Variable 3</th>\n",
       "      <th>Variable 4</th>\n",
       "      <th>Variable 5</th>\n",
       "      <th>Variable 6</th>\n",
       "      <th>Variable 7</th>\n",
       "      <th>Variable 8</th>\n",
       "      <th>Variable 9</th>\n",
       "      <th>Variable 10</th>\n",
       "      <th>y</th>\n",
       "    </tr>\n",
       "  </thead>\n",
       "  <tbody>\n",
       "    <tr>\n",
       "      <th>0</th>\n",
       "      <td>0.065023</td>\n",
       "      <td>-1.746832</td>\n",
       "      <td>-2.115627</td>\n",
       "      <td>0.780347</td>\n",
       "      <td>1.042145</td>\n",
       "      <td>-1.622671</td>\n",
       "      <td>-3.200456</td>\n",
       "      <td>-4.230032</td>\n",
       "      <td>15.536607</td>\n",
       "      <td>-30.132695</td>\n",
       "      <td>-25.660216</td>\n",
       "    </tr>\n",
       "    <tr>\n",
       "      <th>1</th>\n",
       "      <td>0.844927</td>\n",
       "      <td>2.045402</td>\n",
       "      <td>1.663006</td>\n",
       "      <td>-1.275406</td>\n",
       "      <td>-4.805045</td>\n",
       "      <td>6.609990</td>\n",
       "      <td>5.794474</td>\n",
       "      <td>6.095416</td>\n",
       "      <td>15.023046</td>\n",
       "      <td>-5.344521</td>\n",
       "      <td>26.707577</td>\n",
       "    </tr>\n",
       "    <tr>\n",
       "      <th>2</th>\n",
       "      <td>-1.685260</td>\n",
       "      <td>1.682198</td>\n",
       "      <td>0.402331</td>\n",
       "      <td>4.161648</td>\n",
       "      <td>-6.051976</td>\n",
       "      <td>0.772228</td>\n",
       "      <td>2.364731</td>\n",
       "      <td>18.072687</td>\n",
       "      <td>3.557881</td>\n",
       "      <td>12.739563</td>\n",
       "      <td>35.868827</td>\n",
       "    </tr>\n",
       "    <tr>\n",
       "      <th>3</th>\n",
       "      <td>-0.637307</td>\n",
       "      <td>-4.276427</td>\n",
       "      <td>-0.383800</td>\n",
       "      <td>9.227905</td>\n",
       "      <td>4.867844</td>\n",
       "      <td>-15.331010</td>\n",
       "      <td>4.685788</td>\n",
       "      <td>15.570413</td>\n",
       "      <td>5.401244</td>\n",
       "      <td>14.592814</td>\n",
       "      <td>33.726075</td>\n",
       "    </tr>\n",
       "    <tr>\n",
       "      <th>4</th>\n",
       "      <td>0.445568</td>\n",
       "      <td>-2.028649</td>\n",
       "      <td>-0.596922</td>\n",
       "      <td>-0.293666</td>\n",
       "      <td>-8.487407</td>\n",
       "      <td>12.172732</td>\n",
       "      <td>7.366643</td>\n",
       "      <td>5.217159</td>\n",
       "      <td>-2.798615</td>\n",
       "      <td>4.727270</td>\n",
       "      <td>15.634467</td>\n",
       "    </tr>\n",
       "  </tbody>\n",
       "</table>\n",
       "</div>"
      ],
      "text/plain": [
       "   Variable 1  Variable 2  Variable 3  Variable 4  Variable 5  Variable 6  \\\n",
       "0    0.065023   -1.746832   -2.115627    0.780347    1.042145   -1.622671   \n",
       "1    0.844927    2.045402    1.663006   -1.275406   -4.805045    6.609990   \n",
       "2   -1.685260    1.682198    0.402331    4.161648   -6.051976    0.772228   \n",
       "3   -0.637307   -4.276427   -0.383800    9.227905    4.867844  -15.331010   \n",
       "4    0.445568   -2.028649   -0.596922   -0.293666   -8.487407   12.172732   \n",
       "\n",
       "   Variable 7  Variable 8  Variable 9  Variable 10          y  \n",
       "0   -3.200456   -4.230032   15.536607   -30.132695 -25.660216  \n",
       "1    5.794474    6.095416   15.023046    -5.344521  26.707577  \n",
       "2    2.364731   18.072687    3.557881    12.739563  35.868827  \n",
       "3    4.685788   15.570413    5.401244    14.592814  33.726075  \n",
       "4    7.366643    5.217159   -2.798615     4.727270  15.634467  "
      ]
     },
     "execution_count": 11,
     "metadata": {},
     "output_type": "execute_result"
    }
   ],
   "source": [
    "df1.head()"
   ]
  },
  {
   "cell_type": "code",
   "execution_count": 12,
   "metadata": {},
   "outputs": [
    {
     "data": {
      "text/html": [
       "<div>\n",
       "<style scoped>\n",
       "    .dataframe tbody tr th:only-of-type {\n",
       "        vertical-align: middle;\n",
       "    }\n",
       "\n",
       "    .dataframe tbody tr th {\n",
       "        vertical-align: top;\n",
       "    }\n",
       "\n",
       "    .dataframe thead th {\n",
       "        text-align: right;\n",
       "    }\n",
       "</style>\n",
       "<table border=\"1\" class=\"dataframe\">\n",
       "  <thead>\n",
       "    <tr style=\"text-align: right;\">\n",
       "      <th></th>\n",
       "      <th>Variable 1</th>\n",
       "      <th>Variable 2</th>\n",
       "      <th>Variable 3</th>\n",
       "      <th>Variable 4</th>\n",
       "      <th>Variable 5</th>\n",
       "      <th>Variable 6</th>\n",
       "      <th>Variable 7</th>\n",
       "      <th>Variable 8</th>\n",
       "      <th>Variable 9</th>\n",
       "      <th>Variable 10</th>\n",
       "    </tr>\n",
       "  </thead>\n",
       "  <tbody>\n",
       "    <tr>\n",
       "      <th>0</th>\n",
       "      <td>0.065023</td>\n",
       "      <td>-1.746832</td>\n",
       "      <td>-2.115627</td>\n",
       "      <td>0.780347</td>\n",
       "      <td>1.042145</td>\n",
       "      <td>-1.622671</td>\n",
       "      <td>-3.200456</td>\n",
       "      <td>-4.230032</td>\n",
       "      <td>15.536607</td>\n",
       "      <td>-30.132695</td>\n",
       "    </tr>\n",
       "    <tr>\n",
       "      <th>1</th>\n",
       "      <td>0.844927</td>\n",
       "      <td>2.045402</td>\n",
       "      <td>1.663006</td>\n",
       "      <td>-1.275406</td>\n",
       "      <td>-4.805045</td>\n",
       "      <td>6.609990</td>\n",
       "      <td>5.794474</td>\n",
       "      <td>6.095416</td>\n",
       "      <td>15.023046</td>\n",
       "      <td>-5.344521</td>\n",
       "    </tr>\n",
       "    <tr>\n",
       "      <th>2</th>\n",
       "      <td>-1.685260</td>\n",
       "      <td>1.682198</td>\n",
       "      <td>0.402331</td>\n",
       "      <td>4.161648</td>\n",
       "      <td>-6.051976</td>\n",
       "      <td>0.772228</td>\n",
       "      <td>2.364731</td>\n",
       "      <td>18.072687</td>\n",
       "      <td>3.557881</td>\n",
       "      <td>12.739563</td>\n",
       "    </tr>\n",
       "    <tr>\n",
       "      <th>3</th>\n",
       "      <td>-0.637307</td>\n",
       "      <td>-4.276427</td>\n",
       "      <td>-0.383800</td>\n",
       "      <td>9.227905</td>\n",
       "      <td>4.867844</td>\n",
       "      <td>-15.331010</td>\n",
       "      <td>4.685788</td>\n",
       "      <td>15.570413</td>\n",
       "      <td>5.401244</td>\n",
       "      <td>14.592814</td>\n",
       "    </tr>\n",
       "    <tr>\n",
       "      <th>4</th>\n",
       "      <td>0.445568</td>\n",
       "      <td>-2.028649</td>\n",
       "      <td>-0.596922</td>\n",
       "      <td>-0.293666</td>\n",
       "      <td>-8.487407</td>\n",
       "      <td>12.172732</td>\n",
       "      <td>7.366643</td>\n",
       "      <td>5.217159</td>\n",
       "      <td>-2.798615</td>\n",
       "      <td>4.727270</td>\n",
       "    </tr>\n",
       "  </tbody>\n",
       "</table>\n",
       "</div>"
      ],
      "text/plain": [
       "   Variable 1  Variable 2  Variable 3  Variable 4  Variable 5  Variable 6  \\\n",
       "0    0.065023   -1.746832   -2.115627    0.780347    1.042145   -1.622671   \n",
       "1    0.844927    2.045402    1.663006   -1.275406   -4.805045    6.609990   \n",
       "2   -1.685260    1.682198    0.402331    4.161648   -6.051976    0.772228   \n",
       "3   -0.637307   -4.276427   -0.383800    9.227905    4.867844  -15.331010   \n",
       "4    0.445568   -2.028649   -0.596922   -0.293666   -8.487407   12.172732   \n",
       "\n",
       "   Variable 7  Variable 8  Variable 9  Variable 10  \n",
       "0   -3.200456   -4.230032   15.536607   -30.132695  \n",
       "1    5.794474    6.095416   15.023046    -5.344521  \n",
       "2    2.364731   18.072687    3.557881    12.739563  \n",
       "3    4.685788   15.570413    5.401244    14.592814  \n",
       "4    7.366643    5.217159   -2.798615     4.727270  "
      ]
     },
     "execution_count": 12,
     "metadata": {},
     "output_type": "execute_result"
    }
   ],
   "source": [
    "df2.head()"
   ]
  },
  {
   "cell_type": "code",
   "execution_count": 27,
   "metadata": {},
   "outputs": [],
   "source": [
    "from sklearn.decomposition import PCA"
   ]
  },
  {
   "cell_type": "code",
   "execution_count": 28,
   "metadata": {},
   "outputs": [],
   "source": [
    "# We create two instances of the PCA\n",
    "pca1 = PCA(n_components = 5)\n",
    "pca2 = PCA(n_components = 5)"
   ]
  },
  {
   "cell_type": "code",
   "execution_count": 29,
   "metadata": {},
   "outputs": [],
   "source": [
    "# Fit transform of the PCA in each case\n",
    "principalcomponents1 = pca1.fit_transform(df1)\n",
    "principalcomponents2 = pca2.fit_transform(df2)"
   ]
  },
  {
   "cell_type": "code",
   "execution_count": 30,
   "metadata": {},
   "outputs": [
    {
     "data": {
      "text/plain": [
       "[<matplotlib.lines.Line2D at 0x7f7128bcc240>]"
      ]
     },
     "execution_count": 30,
     "metadata": {},
     "output_type": "execute_result"
    },
    {
     "data": {
      "image/png": "[encoded data removed]",
      "text/plain": [
       "<matplotlib.figure.Figure at 0x7f7130cd9780>"
      ]
     },
     "metadata": {},
     "output_type": "display_data"
    }
   ],
   "source": [
    "# PCA explained variance in each dimension\n",
    "_, ax = plt.subplots(figsize = (10,5))\n",
    "ax.plot(pca1.explained_variance_ratio_, color = 'b')\n",
    "ax.plot(pca2.explained_variance_ratio_, color = 'r')"
   ]
  },
  {
   "cell_type": "code",
   "execution_count": 31,
   "metadata": {},
   "outputs": [],
   "source": [
    "# We take the data frame with the data represented in the principal components\n",
    "principalDf1 = pd.DataFrame(data = principalcomponents1, columns = ['1 - principal component {0}'.format(i+1) for i in range(5)])\n",
    "principalDf2 = pd.DataFrame(data = principalcomponents2, columns = ['2 - principal component {0}'.format(i+1) for i in range(5)])"
   ]
  },
  {
   "cell_type": "markdown",
   "metadata": {},
   "source": [
    "## Linear Regression"
   ]
  },
  {
   "cell_type": "markdown",
   "metadata": {},
   "source": [
    "We fit a linear regression model for each case."
   ]
  },
  {
   "cell_type": "code",
   "execution_count": 32,
   "metadata": {},
   "outputs": [],
   "source": [
    "from sklearn.linear_model import LinearRegression"
   ]
  },
  {
   "cell_type": "code",
   "execution_count": 33,
   "metadata": {},
   "outputs": [
    {
     "data": {
      "text/plain": [
       "LinearRegression(copy_X=True, fit_intercept=True, n_jobs=1, normalize=False)"
      ]
     },
     "execution_count": 33,
     "metadata": {},
     "output_type": "execute_result"
    }
   ],
   "source": [
    "linreg1 = LinearRegression()\n",
    "linreg2 = LinearRegression()\n",
    "\n",
    "linreg1.fit(principalDf1, y)\n",
    "linreg2.fit(principalDf2, y)"
   ]
  },
  {
   "cell_type": "code",
   "execution_count": 34,
   "metadata": {},
   "outputs": [
    {
     "data": {
      "text/plain": [
       "(array([-0.91965769,  0.07058203, -0.07954919, -0.08101775,  0.08261667]),\n",
       " array([-0.98416159,  1.0178017 , -0.98056836,  1.01863081,  0.99841066]))"
      ]
     },
     "execution_count": 34,
     "metadata": {},
     "output_type": "execute_result"
    }
   ],
   "source": [
    "linreg1.coef_, linreg2.coef_"
   ]
  },
  {
   "cell_type": "markdown",
   "metadata": {},
   "source": [
    "The models acually fit our data very differently!"
   ]
  },
  {
   "cell_type": "markdown",
   "metadata": {},
   "source": [
    "#### We now make prediction with each model and test the results."
   ]
  },
  {
   "cell_type": "code",
   "execution_count": 35,
   "metadata": {},
   "outputs": [],
   "source": [
    "df_test_1 = df_test.copy()\n",
    "df_test_2 = df_test.copy()\n",
    "\n",
    "y_test = df_test.y\n",
    "\n",
    "df_test_2.drop('y', axis = 1, inplace = True)"
   ]
  },
  {
   "cell_type": "code",
   "execution_count": 36,
   "metadata": {},
   "outputs": [],
   "source": [
    "principalcomponents_test_1 = pca1.transform(df_test_1)\n",
    "principalcomponents_test_2 = pca2.transform(df_test_2) # Transforming our data with PCA\n",
    "\n",
    "# Constructing our data frames.\n",
    "principalDf1_test = pd.DataFrame(data = principalcomponents_test_1, columns = ['1 - principal component {0}'.format(i+1) for i in range(5)])\n",
    "principalDf2_test = pd.DataFrame(data = principalcomponents_test_2, columns = ['2 - principal component {0}'.format(i+1) for i in range(5)])\n",
    "\n",
    "predict_test_1 = linreg1.predict(principalDf1_test)\n",
    "predict_test_2 = linreg2.predict(principalDf2_test) # Making our predicitions in each case"
   ]
  },
  {
   "cell_type": "markdown",
   "metadata": {},
   "source": [
    "#### Final tests and metrics"
   ]
  },
  {
   "cell_type": "code",
   "execution_count": 37,
   "metadata": {},
   "outputs": [],
   "source": [
    "from sklearn.metrics import mean_squared_error"
   ]
  },
  {
   "cell_type": "code",
   "execution_count": 38,
   "metadata": {},
   "outputs": [
    {
     "data": {
      "text/plain": [
       "(0.4556214294183669, 54.68698088102719)"
      ]
     },
     "execution_count": 38,
     "metadata": {},
     "output_type": "execute_result"
    }
   ],
   "source": [
    "e1 = mean_squared_error(predict_test_1, y_test)\n",
    "e2 = mean_squared_error(predict_test_2, y_test)\n",
    "\n",
    "e1, e2"
   ]
  },
  {
   "cell_type": "markdown",
   "metadata": {},
   "source": [
    "Now, note:"
   ]
  },
  {
   "cell_type": "code",
   "execution_count": 41,
   "metadata": {},
   "outputs": [],
   "source": [
    "r = 0\n",
    "for i in range(5):\n",
    "    r = r + np.std(df_test_2['Variable {0}'.format(i+1)])**2"
   ]
  },
  {
   "cell_type": "code",
   "execution_count": 42,
   "metadata": {},
   "outputs": [
    {
     "data": {
      "text/plain": [
       "54.8348126106643"
      ]
     },
     "execution_count": 42,
     "metadata": {},
     "output_type": "execute_result"
    }
   ],
   "source": [
    "r"
   ]
  },
  {
   "cell_type": "markdown",
   "metadata": {},
   "source": [
    "The mean squared error of the second model approximates the sum of the variances of the features with least variance (which by the structure of our data, correspond to the first features). This means that error for the second model is exactly what we should expect, since we selected just 5 dimensions for the PCA, meaning that the features used to train the second models can't capture the smaller variance in the first features.\n",
    "\n",
    "Now, we get a unexpectedly good result for the first model. This most likely means that the first features of the PCA encoded most of the information about the target variable since it has the largest variance. "
   ]
  },
  {
   "cell_type": "code",
   "execution_count": null,
   "metadata": {},
   "outputs": [],
   "source": []
  }
 ],
 "metadata": {
  "kernelspec": {
   "display_name": "Python 3",
   "language": "python",
   "name": "python3"
  },
  "language_info": {
   "codemirror_mode": {
    "name": "ipython",
    "version": 3
   },
   "file_extension": ".py",
   "mimetype": "text/x-python",
   "name": "python",
   "nbconvert_exporter": "python",
   "pygments_lexer": "ipython3",
   "version": "3.6.4"
  }
 },
 "nbformat": 4,
 "nbformat_minor": 2
}
